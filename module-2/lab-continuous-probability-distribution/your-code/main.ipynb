{
 "cells": [
  {
   "cell_type": "markdown",
   "metadata": {},
   "source": [
    "# Before your start:\n",
    "\n",
    "    Read the README.md file\n",
    "    Comment as much as you can and use the resources (README.md file)\n",
    "    Happy learning!"
   ]
  },
  {
   "cell_type": "markdown",
   "metadata": {},
   "source": [
    "In this exercise, we  will generate random numbers from the continuous disributions we learned in the lesson. There are two ways to generate random numbers:\n",
    "\n",
    "1. Using the numpy library \n",
    "1. using the Scipy library \n",
    "\n",
    "Use either or both of the lbraries in this exercise."
   ]
  },
  {
   "cell_type": "markdown",
   "metadata": {},
   "source": [
    "## Uniform Distribution\n",
    "\n",
    "To generate uniform random numbers between any two given values using scipy, we can either use the following code or the code that we have\n",
    "discussed in class:"
   ]
  },
  {
   "cell_type": "code",
   "execution_count": 5,
   "metadata": {},
   "outputs": [
    {
     "name": "stdout",
     "output_type": "stream",
     "text": [
      "[2.62167505 2.35517869 2.07029825 2.1064712  2.04651202 2.14504091\n",
      " 2.66829807 2.83037615 2.05229126 2.03595963]\n"
     ]
    }
   ],
   "source": [
    "from scipy.stats import uniform\n",
    "x = uniform.rvs(size=10)\n",
    "a = 2\n",
    "b = 3\n",
    "randoms  = a + (b-a)*x\n",
    "print(randoms)"
   ]
  },
  {
   "cell_type": "markdown",
   "metadata": {},
   "source": [
    "**Your task:**\n",
    "\n",
    "1. Based on the code above, write a function that generates uniformly distributed random numbers. There are several requirements for your function:\n",
    "    * It should accept 3 parameters: \n",
    "        * `bottom` - the lower boundary of the generated numbers\n",
    "        * `ceiling` - the upper boundary of the generated numbers\n",
    "        * `count` - how many numbers to generate\n",
    "    * It should return an array of uniformly distributed random numbers\n",
    "\n",
    "1. Call your function with 2 sets of params below:\n",
    "    * bottom=10, ceiling=15, count=100\n",
    "    * bottom=10, ceiling=60, count=1,000\n",
    "\n",
    "1. Plot the uniform distributions generated above using histograms, where x axis is the value and y axis is the count. Let the histogram's number of bins be 10.\n",
    "\n",
    "Your output should look like below:\n",
    "\n",
    "![uniform distribution](ud.png)"
   ]
  },
  {
   "cell_type": "code",
   "execution_count": 6,
   "metadata": {},
   "outputs": [
    {
     "data": {
      "text/plain": [
       "(array([ 96.,  89., 103.,  90.,  91., 102., 138.,  99., 100.,  92.]),\n",
       " array([10.0043987 , 14.99819677, 19.99199483, 24.98579289, 29.97959095,\n",
       "        34.97338902, 39.96718708, 44.96098514, 49.9547832 , 54.94858127,\n",
       "        59.94237933]),\n",
       " <a list of 10 Patch objects>)"
      ]
     },
     "execution_count": 6,
     "metadata": {},
     "output_type": "execute_result"
    },
    {
     "data": {
      "image/png": "[encoded data removed]",
      "text/plain": [
       "<Figure size 576x576 with 2 Axes>"
      ]
     },
     "metadata": {
      "needs_background": "light"
     },
     "output_type": "display_data"
    }
   ],
   "source": [
    "# your code here\n",
    "import matplotlib.pyplot as plt\n",
    "import numpy as np\n",
    "from scipy.stats import uniform\n",
    "x = uniform.rvs(size=10)\n",
    "a = 2\n",
    "b = 3\n",
    "randoms  = a + (b-a)*x\n",
    "#print(randoms)\n",
    "\n",
    "def distributed_random_numbers(bottom, ceiling, count):\n",
    "        from scipy.stats import uniform \n",
    "        x = uniform.rvs(size=count)\n",
    "        return bottom + (ceiling - bottom)*x\n",
    "f1= distributed_random_numbers(10, 15, 100)\n",
    "f2= distributed_random_numbers(10, 60, 1000)\n",
    "x = np.arange(0,100)\n",
    "\n",
    "fig, ax = plt.subplots(1,2, figsize=(8,8))\n",
    "ax[0].hist(f1)\n",
    "ax[1].hist(f2)"
   ]
  },
  {
   "cell_type": "markdown",
   "metadata": {},
   "source": [
    "How are the two distributions different?"
   ]
  },
  {
   "cell_type": "code",
   "execution_count": 3,
   "metadata": {},
   "outputs": [
    {
     "data": {
      "text/plain": [
       "\"plus l'échantillon est grand plus les valeurs se rapprochent de la moyenne\""
      ]
     },
     "execution_count": 3,
     "metadata": {},
     "output_type": "execute_result"
    }
   ],
   "source": [
    "# your answer below\n",
    "'''plus l'échantillon est grand plus les valeurs se rapprochent de la moyenne'''"
   ]
  },
  {
   "cell_type": "markdown",
   "metadata": {},
   "source": [
    "## Normal Distribution\n",
    "\n",
    "1. In the same way in the Uniform Distribution challenge, write a function that generates normally distributed random numbers.\n",
    "1. Generate 1,000 normally distributed numbers with the average of 10 and standard deviation of 1\n",
    "1. Generate 1,000 normally distributed numbers with the average of 10 and standard deviation of 50\n",
    "2. Plot the distributions of the data generated.\n",
    "\n",
    "Expected output:\n",
    "\n",
    "![normal distribution](nd.png)"
   ]
  },
  {
   "cell_type": "code",
   "execution_count": 17,
   "metadata": {},
   "outputs": [
    {
     "data": {
      "text/plain": [
       "(array([ 2.,  2.,  1.,  3.,  4.,  5.,  7., 10., 10., 15., 17., 16., 27.,\n",
       "        23., 30., 38., 33., 44., 36., 45., 44., 37., 43., 43., 50., 48.,\n",
       "        43., 32., 44., 49., 34., 19., 23., 21., 27., 15., 11., 15.,  4.,\n",
       "         7.,  3.,  3.,  6.,  2.,  2.,  1.,  1.,  2.,  2.,  1.]),\n",
       " array([-127.89498854, -121.88653453, -115.87808052, -109.86962651,\n",
       "        -103.8611725 ,  -97.8527185 ,  -91.84426449,  -85.83581048,\n",
       "         -79.82735647,  -73.81890246,  -67.81044845,  -61.80199445,\n",
       "         -55.79354044,  -49.78508643,  -43.77663242,  -37.76817841,\n",
       "         -31.7597244 ,  -25.75127039,  -19.74281639,  -13.73436238,\n",
       "          -7.72590837,   -1.71745436,    4.29099965,   10.29945366,\n",
       "          16.30790766,   22.31636167,   28.32481568,   34.33326969,\n",
       "          40.3417237 ,   46.35017771,   52.35863172,   58.36708572,\n",
       "          64.37553973,   70.38399374,   76.39244775,   82.40090176,\n",
       "          88.40935577,   94.41780977,  100.42626378,  106.43471779,\n",
       "         112.4431718 ,  118.45162581,  124.46007982,  130.46853383,\n",
       "         136.47698783,  142.48544184,  148.49389585,  154.50234986,\n",
       "         160.51080387,  166.51925788,  172.52771188]),\n",
       " <a list of 50 Patch objects>)"
      ]
     },
     "execution_count": 17,
     "metadata": {},
     "output_type": "execute_result"
    },
    {
     "data": {
      "image/png": "[encoded data removed]",
      "text/plain": [
       "<Figure size 576x576 with 2 Axes>"
      ]
     },
     "metadata": {
      "needs_background": "light"
     },
     "output_type": "display_data"
    }
   ],
   "source": [
    "# your code here\n",
    "def normally_distributed_random_numbers(mean,standard_deviation,sample_size):\n",
    "    return np.random.normal(mean, standard_deviation, sample_size)\n",
    "\n",
    "a = normally_distributed_random_numbers(10,1,1000)\n",
    "b = normally_distributed_random_numbers(10,50,1000)\n",
    "\n",
    "\n",
    "fig, ax = plt.subplots(1,2, figsize=(8,8))\n",
    "ax[0].hist(a, bins=50)\n",
    "ax[1].hist(b, bins=50)"
   ]
  },
  {
   "cell_type": "markdown",
   "metadata": {},
   "source": [
    "How are the two distributions different?"
   ]
  },
  {
   "cell_type": "code",
   "execution_count": null,
   "metadata": {},
   "outputs": [],
   "source": [
    "# your answer below\n",
    "'''plus l'écart type est grand plus les points sont dispersés'''"
   ]
  },
  {
   "cell_type": "markdown",
   "metadata": {},
   "source": [
    "## Normal Distribution of Real Data\n",
    "\n",
    "In this challenge we are going to take a look the real data. We will use vehicles.csv file for this exercise"
   ]
  },
  {
   "cell_type": "markdown",
   "metadata": {},
   "source": [
    "First import vehicles.csv.\n",
    "Then plot the histograms for the following variables:\n",
    "\n",
    "1. Fuel Barrels/Year"
   ]
  },
  {
   "cell_type": "code",
   "execution_count": 31,
   "metadata": {},
   "outputs": [
    {
     "data": {
      "text/plain": [
       "17.609055502328875"
      ]
     },
     "execution_count": 31,
     "metadata": {},
     "output_type": "execute_result"
    },
    {
     "data": {
      "image/png": "[encoded data removed]",
      "text/plain": [
       "<Figure size 432x288 with 1 Axes>"
      ]
     },
     "metadata": {
      "needs_background": "light"
     },
     "output_type": "display_data"
    }
   ],
   "source": [
    "# your code here\n",
    "import pandas as pd\n",
    "import scipy.stats\n",
    "data = pd.read_csv('vehicles.csv')\n",
    "\n",
    "data['Fuel Barrels/Year'].hist()\n",
    "\n",
    "\n",
    "data['Fuel Barrels/Year'].mean()"
   ]
  },
  {
   "cell_type": "markdown",
   "metadata": {},
   "source": [
    "2. CO2 Emission Grams/Mile "
   ]
  },
  {
   "cell_type": "code",
   "execution_count": 32,
   "metadata": {},
   "outputs": [
    {
     "data": {
      "text/plain": [
       "475.31633925715045"
      ]
     },
     "execution_count": 32,
     "metadata": {},
     "output_type": "execute_result"
    },
    {
     "data": {
      "image/png": "[encoded data removed]",
      "text/plain": [
       "<Figure size 432x288 with 1 Axes>"
      ]
     },
     "metadata": {
      "needs_background": "light"
     },
     "output_type": "display_data"
    }
   ],
   "source": [
    "# your code here\n",
    "data['CO2 Emission Grams/Mile'].hist()\n",
    "\n",
    "data['CO2 Emission Grams/Mile'].mean()"
   ]
  },
  {
   "cell_type": "markdown",
   "metadata": {},
   "source": [
    "3. Combined MPG"
   ]
  },
  {
   "cell_type": "code",
   "execution_count": 33,
   "metadata": {},
   "outputs": [
    {
     "data": {
      "text/plain": [
       "19.92932242990654"
      ]
     },
     "execution_count": 33,
     "metadata": {},
     "output_type": "execute_result"
    },
    {
     "data": {
      "image/png": "[encoded data removed]",
      "text/plain": [
       "<Figure size 432x288 with 1 Axes>"
      ]
     },
     "metadata": {
      "needs_background": "light"
     },
     "output_type": "display_data"
    }
   ],
   "source": [
    "# your code here\n",
    "data['Combined MPG'].hist()\n",
    "\n",
    "data['Combined MPG'].mean()"
   ]
  },
  {
   "cell_type": "markdown",
   "metadata": {},
   "source": [
    "Which one(s) of the variables are nearly normally distributed? How do you know?"
   ]
  },
  {
   "cell_type": "code",
   "execution_count": null,
   "metadata": {},
   "outputs": [],
   "source": [
    "# your answer here"
   ]
  },
  {
   "cell_type": "markdown",
   "metadata": {},
   "source": [
    "## Exponential Distribution"
   ]
  },
  {
   "cell_type": "markdown",
   "metadata": {},
   "source": [
    "1. Using `numpy.random.exponential`, create a function that returns a list of numbers exponentially distributed with the mean of 10. \n",
    "\n",
    "1. Use the function to generate two number sequences with the size of 1 and 100.\n",
    "\n",
    "1. Plot the distributions as histograms with the nubmer of bins as 100.\n",
    "\n",
    "Your output should look like below:\n",
    "\n",
    "![exponential distribution](ed.png)"
   ]
  },
  {
   "cell_type": "code",
   "execution_count": 44,
   "metadata": {},
   "outputs": [
    {
     "data": {
      "text/plain": [
       "(array([816., 706., 620., 483., 380., 330., 301., 213., 206., 157., 160.,\n",
       "         92.,  75.,  75.,  59.,  43.,  42.,  51.,  40.,  25.,  19.,  14.,\n",
       "         14.,  16.,  10.,   7.,   8.,  10.,   3.,   6.,   3.,   1.,   2.,\n",
       "          4.,   2.,   0.,   0.,   1.,   1.,   0.,   0.,   1.,   2.,   0.,\n",
       "          1.,   0.,   0.,   0.,   0.,   1.]),\n",
       " array([3.22704065e-02, 1.85344650e+01, 3.70366595e+01, 5.55388541e+01,\n",
       "        7.40410487e+01, 9.25432432e+01, 1.11045438e+02, 1.29547632e+02,\n",
       "        1.48049827e+02, 1.66552021e+02, 1.85054216e+02, 2.03556411e+02,\n",
       "        2.22058605e+02, 2.40560800e+02, 2.59062994e+02, 2.77565189e+02,\n",
       "        2.96067383e+02, 3.14569578e+02, 3.33071773e+02, 3.51573967e+02,\n",
       "        3.70076162e+02, 3.88578356e+02, 4.07080551e+02, 4.25582745e+02,\n",
       "        4.44084940e+02, 4.62587135e+02, 4.81089329e+02, 4.99591524e+02,\n",
       "        5.18093718e+02, 5.36595913e+02, 5.55098107e+02, 5.73600302e+02,\n",
       "        5.92102496e+02, 6.10604691e+02, 6.29106886e+02, 6.47609080e+02,\n",
       "        6.66111275e+02, 6.84613469e+02, 7.03115664e+02, 7.21617858e+02,\n",
       "        7.40120053e+02, 7.58622248e+02, 7.77124442e+02, 7.95626637e+02,\n",
       "        8.14128831e+02, 8.32631026e+02, 8.51133220e+02, 8.69635415e+02,\n",
       "        8.88137610e+02, 9.06639804e+02, 9.25141999e+02]),\n",
       " <a list of 50 Patch objects>)"
      ]
     },
     "execution_count": 44,
     "metadata": {},
     "output_type": "execute_result"
    },
    {
     "data": {
      "image/png": "[encoded data removed]",
      "text/plain": [
       "<Figure size 576x576 with 2 Axes>"
      ]
     },
     "metadata": {
      "needs_background": "light"
     },
     "output_type": "display_data"
    }
   ],
   "source": [
    "# your code here\n",
    "import matplotlib.pyplot as plt\n",
    "import numpy \n",
    "\n",
    "\n",
    "def numbers_exponentially_distributed(scale, size):\n",
    "    return numpy.random.exponential(scale, size)\n",
    "\n",
    "f3 = numbers_exponentially_distributed(1,5000)\n",
    "f4 = numbers_exponentially_distributed(100,5000)\n",
    "\n",
    "fig, ax = plt.subplots(1,2, figsize=(8,8))\n",
    "ax[0].hist(f3, bins=50)\n",
    "ax[1].hist(f4, bins=50)"
   ]
  },
  {
   "cell_type": "markdown",
   "metadata": {},
   "source": [
    "How are the two distributions different?"
   ]
  },
  {
   "cell_type": "code",
   "execution_count": null,
   "metadata": {},
   "outputs": [],
   "source": [
    "# your answer here"
   ]
  },
  {
   "cell_type": "markdown",
   "metadata": {},
   "source": [
    "## Exponential Distribution of Real Data\n",
    "\n",
    "Suppose that the amount of time one spends in a bank is exponentially distributed with mean as 10 minutes (i.e. λ = 1/10). What is the probability that a customer will spend less than fifteen minutes in the bank? \n",
    "\n",
    "Write a code in python to solve this problem"
   ]
  },
  {
   "cell_type": "code",
   "execution_count": 47,
   "metadata": {},
   "outputs": [
    {
     "data": {
      "text/plain": [
       "0.02253726555394387"
      ]
     },
     "execution_count": 47,
     "metadata": {},
     "output_type": "execute_result"
    }
   ],
   "source": [
    "# your answer here\n",
    "# Hint: This is same as saying P(x<15)\n",
    "#loc = lambda, x= valeur recherchée, scale = mean\n",
    "#expon.pdf(x, loc, scale)\n",
    "\n",
    "from scipy.stats import expon\n",
    "expon.pdf(15, 1/10, 10)\n"
   ]
  },
  {
   "cell_type": "markdown",
   "metadata": {},
   "source": [
    "What is the probability that the customer will spend more than 15 minutes"
   ]
  },
  {
   "cell_type": "code",
   "execution_count": null,
   "metadata": {},
   "outputs": [],
   "source": [
    "# your answer here"
   ]
  },
  {
   "cell_type": "code",
   "execution_count": 48,
   "metadata": {},
   "outputs": [
    {
     "data": {
      "text/plain": [
       "0.9774627344460561"
      ]
     },
     "execution_count": 48,
     "metadata": {},
     "output_type": "execute_result"
    }
   ],
   "source": [
    "1-(expon.pdf(15, 1/10, 10))"
   ]
  }
 ],
 "metadata": {
  "kernelspec": {
   "display_name": "Python 3",
   "language": "python",
   "name": "python3"
  },
  "language_info": {
   "codemirror_mode": {
    "name": "ipython",
    "version": 3
   },
   "file_extension": ".py",
   "mimetype": "text/x-python",
   "name": "python",
   "nbconvert_exporter": "python",
   "pygments_lexer": "ipython3",
   "version": "3.7.3"
  }
 },
 "nbformat": 4,
 "nbformat_minor": 2
}
