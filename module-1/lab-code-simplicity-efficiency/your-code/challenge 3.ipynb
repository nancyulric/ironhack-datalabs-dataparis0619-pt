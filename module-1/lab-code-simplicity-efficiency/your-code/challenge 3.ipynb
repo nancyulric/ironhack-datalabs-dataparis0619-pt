{
 "cells": [
  {
   "cell_type": "code",
   "execution_count": 44,
   "metadata": {},
   "outputs": [
    {
     "name": "stdout",
     "output_type": "stream",
     "text": [
      "What is the maximal length of the triangle side? Enter a number: 15\n",
      "The longest side possible is 10.\n"
     ]
    }
   ],
   "source": [
    "def lenght_right_triangle(x):\n",
    "    max_lenght = []\n",
    "    for a in range(10, x):\n",
    "        for b in range(8, x):\n",
    "            for c in range(6, x):\n",
    "                if (a*a==b*b+c*c):\n",
    "                    max_lenght.append([a, b, c])\n",
    "    \n",
    "    for lenght in max_lenght:\n",
    "        return max(lenght)\n",
    "\n",
    "x = input(\"What is the maximal length of the triangle side? Enter a number: \")\n",
    "\n",
    "print(\"The longest side possible is {}.\".format(lenght_right_triangle(15)))"
   ]
  },
  {
   "cell_type": "code",
   "execution_count": null,
   "metadata": {},
   "outputs": [],
   "source": []
  }
 ],
 "metadata": {
  "kernelspec": {
   "display_name": "Python 3",
   "language": "python",
   "name": "python3"
  },
  "language_info": {
   "codemirror_mode": {
    "name": "ipython",
    "version": 3
   },
   "file_extension": ".py",
   "mimetype": "text/x-python",
   "name": "python",
   "nbconvert_exporter": "python",
   "pygments_lexer": "ipython3",
   "version": "3.7.3"
  }
 },
 "nbformat": 4,
 "nbformat_minor": 2
}
