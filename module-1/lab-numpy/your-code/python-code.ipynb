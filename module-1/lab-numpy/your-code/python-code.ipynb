{
 "cells": [
  {
   "cell_type": "code",
   "execution_count": 3,
   "metadata": {},
   "outputs": [
    {
     "name": "stdout",
     "output_type": "stream",
     "text": [
      "1.16.2\n"
     ]
    }
   ],
   "source": [
    "import numpy as np\n",
    "\n",
    "print(np.version.version)"
   ]
  },
  {
   "cell_type": "code",
   "execution_count": 4,
   "metadata": {},
   "outputs": [
    {
     "name": "stdout",
     "output_type": "stream",
     "text": [
      "[[[0.75958506 0.64709275 0.75040953 0.25658842 0.32945783]\n",
      "  [0.35410689 0.98124271 0.42169633 0.27596823 0.1254669 ]\n",
      "  [0.40107662 0.40135483 0.47835205 0.86051948 0.52247597]]\n",
      "\n",
      " [[0.27811627 0.59721497 0.06990186 0.05064535 0.59252815]\n",
      "  [0.43940812 0.9795526  0.1794428  0.74963283 0.50864852]\n",
      "  [0.66888794 0.03156302 0.85491404 0.87325099 0.07219422]]]\n"
     ]
    }
   ],
   "source": [
    "a = np.random.random((2,3,5))\n",
    "print(a)"
   ]
  },
  {
   "cell_type": "code",
   "execution_count": 5,
   "metadata": {},
   "outputs": [
    {
     "name": "stdout",
     "output_type": "stream",
     "text": [
      "[[[1. 1. 1.]\n",
      "  [1. 1. 1.]]\n",
      "\n",
      " [[1. 1. 1.]\n",
      "  [1. 1. 1.]]\n",
      "\n",
      " [[1. 1. 1.]\n",
      "  [1. 1. 1.]]\n",
      "\n",
      " [[1. 1. 1.]\n",
      "  [1. 1. 1.]]\n",
      "\n",
      " [[1. 1. 1.]\n",
      "  [1. 1. 1.]]]\n"
     ]
    }
   ],
   "source": [
    "b = np.ones((5,2,3))\n",
    "print(b)"
   ]
  },
  {
   "cell_type": "code",
   "execution_count": 6,
   "metadata": {},
   "outputs": [
    {
     "data": {
      "text/plain": [
       "True"
      ]
     },
     "execution_count": 6,
     "metadata": {},
     "output_type": "execute_result"
    }
   ],
   "source": [
    "a.size == b.size"
   ]
  },
  {
   "cell_type": "code",
   "execution_count": 7,
   "metadata": {
    "scrolled": true
   },
   "outputs": [
    {
     "ename": "ValueError",
     "evalue": "operands could not be broadcast together with shapes (2,3,5) (5,2,3) ",
     "output_type": "error",
     "traceback": [
      "\u001b[1;31m---------------------------------------------------------------------------\u001b[0m",
      "\u001b[1;31mValueError\u001b[0m                                Traceback (most recent call last)",
      "\u001b[1;32m<ipython-input-7-aee520333497>\u001b[0m in \u001b[0;36m<module>\u001b[1;34m\u001b[0m\n\u001b[1;32m----> 1\u001b[1;33m \u001b[0mprint\u001b[0m\u001b[1;33m(\u001b[0m\u001b[0mnp\u001b[0m\u001b[1;33m.\u001b[0m\u001b[0madd\u001b[0m\u001b[1;33m(\u001b[0m\u001b[0ma\u001b[0m\u001b[1;33m,\u001b[0m\u001b[0mb\u001b[0m\u001b[1;33m)\u001b[0m\u001b[1;33m)\u001b[0m\u001b[1;33m\u001b[0m\u001b[1;33m\u001b[0m\u001b[0m\n\u001b[0m\u001b[0;32m      2\u001b[0m \u001b[1;31m#not the same structure\u001b[0m\u001b[1;33m\u001b[0m\u001b[1;33m\u001b[0m\u001b[1;33m\u001b[0m\u001b[0m\n",
      "\u001b[1;31mValueError\u001b[0m: operands could not be broadcast together with shapes (2,3,5) (5,2,3) "
     ]
    }
   ],
   "source": [
    "print(np.add(a,b))\n",
    "#not the same structure"
   ]
  },
  {
   "cell_type": "code",
   "execution_count": 8,
   "metadata": {},
   "outputs": [
    {
     "name": "stdout",
     "output_type": "stream",
     "text": [
      "(2, 3, 5)\n",
      "(5, 2, 3)\n"
     ]
    }
   ],
   "source": [
    "print(a.shape)\n",
    "print(b.shape)"
   ]
  },
  {
   "cell_type": "code",
   "execution_count": 89,
   "metadata": {},
   "outputs": [
    {
     "name": "stdout",
     "output_type": "stream",
     "text": [
      "[[[1. 1. 1. 1. 1.]\n",
      "  [1. 1. 1. 1. 1.]\n",
      "  [1. 1. 1. 1. 1.]]\n",
      "\n",
      " [[1. 1. 1. 1. 1.]\n",
      "  [1. 1. 1. 1. 1.]\n",
      "  [1. 1. 1. 1. 1.]]]\n"
     ]
    }
   ],
   "source": [
    "#c = np.reshape(b,(2,3,5))\n",
    "c = np.transpose(b,(1,2,0))\n",
    "print(c)"
   ]
  },
  {
   "cell_type": "code",
   "execution_count": 90,
   "metadata": {},
   "outputs": [
    {
     "name": "stdout",
     "output_type": "stream",
     "text": [
      "[[[1.75958506 1.64709275 1.75040953 1.25658842 1.32945783]\n",
      "  [1.35410689 1.98124271 1.42169633 1.27596823 1.1254669 ]\n",
      "  [1.40107662 1.40135483 1.47835205 1.86051948 1.52247597]]\n",
      "\n",
      " [[1.27811627 1.59721497 1.06990186 1.05064535 1.59252815]\n",
      "  [1.43940812 1.9795526  1.1794428  1.74963283 1.50864852]\n",
      "  [1.66888794 1.03156302 1.85491404 1.87325099 1.07219422]]]\n"
     ]
    }
   ],
   "source": [
    "print(np.add(a,c))"
   ]
  },
  {
   "cell_type": "code",
   "execution_count": 91,
   "metadata": {},
   "outputs": [
    {
     "name": "stdout",
     "output_type": "stream",
     "text": [
      "[[[1.75958506 1.64709275 1.75040953 1.25658842 1.32945783]\n",
      "  [1.35410689 1.98124271 1.42169633 1.27596823 1.1254669 ]\n",
      "  [1.40107662 1.40135483 1.47835205 1.86051948 1.52247597]]\n",
      "\n",
      " [[1.27811627 1.59721497 1.06990186 1.05064535 1.59252815]\n",
      "  [1.43940812 1.9795526  1.1794428  1.74963283 1.50864852]\n",
      "  [1.66888794 1.03156302 1.85491404 1.87325099 1.07219422]]]\n"
     ]
    }
   ],
   "source": [
    "#10\n",
    "d = a+c\n",
    "print(d)"
   ]
  },
  {
   "cell_type": "code",
   "execution_count": 92,
   "metadata": {},
   "outputs": [
    {
     "name": "stdout",
     "output_type": "stream",
     "text": [
      "[[[0.75958506 0.64709275 0.75040953 0.25658842 0.32945783]\n",
      "  [0.35410689 0.98124271 0.42169633 0.27596823 0.1254669 ]\n",
      "  [0.40107662 0.40135483 0.47835205 0.86051948 0.52247597]]\n",
      "\n",
      " [[0.27811627 0.59721497 0.06990186 0.05064535 0.59252815]\n",
      "  [0.43940812 0.9795526  0.1794428  0.74963283 0.50864852]\n",
      "  [0.66888794 0.03156302 0.85491404 0.87325099 0.07219422]]]\n",
      "[[[1.75958506 1.64709275 1.75040953 1.25658842 1.32945783]\n",
      "  [1.35410689 1.98124271 1.42169633 1.27596823 1.1254669 ]\n",
      "  [1.40107662 1.40135483 1.47835205 1.86051948 1.52247597]]\n",
      "\n",
      " [[1.27811627 1.59721497 1.06990186 1.05064535 1.59252815]\n",
      "  [1.43940812 1.9795526  1.1794428  1.74963283 1.50864852]\n",
      "  [1.66888794 1.03156302 1.85491404 1.87325099 1.07219422]]]\n"
     ]
    }
   ],
   "source": [
    "#11\n",
    "print(a)\n",
    "print(d)"
   ]
  },
  {
   "cell_type": "code",
   "execution_count": 93,
   "metadata": {},
   "outputs": [
    {
     "name": "stdout",
     "output_type": "stream",
     "text": [
      "[[[0.75958506 0.64709275 0.75040953 0.25658842 0.32945783]\n",
      "  [0.35410689 0.98124271 0.42169633 0.27596823 0.1254669 ]\n",
      "  [0.40107662 0.40135483 0.47835205 0.86051948 0.52247597]]\n",
      "\n",
      " [[0.27811627 0.59721497 0.06990186 0.05064535 0.59252815]\n",
      "  [0.43940812 0.9795526  0.1794428  0.74963283 0.50864852]\n",
      "  [0.66888794 0.03156302 0.85491404 0.87325099 0.07219422]]]\n"
     ]
    }
   ],
   "source": [
    "#12\n",
    "\n",
    "e = np.multiply(a,c)\n",
    "print(e)"
   ]
  },
  {
   "cell_type": "code",
   "execution_count": 71,
   "metadata": {},
   "outputs": [
    {
     "data": {
      "text/plain": [
       "True"
      ]
     },
     "execution_count": 71,
     "metadata": {},
     "output_type": "execute_result"
    }
   ],
   "source": [
    "#13\n",
    "(e == a).all()\n"
   ]
  },
  {
   "cell_type": "code",
   "execution_count": 45,
   "metadata": {},
   "outputs": [
    {
     "name": "stdout",
     "output_type": "stream",
     "text": [
      "1.9812427073484686\n",
      "1.031563024600565\n",
      "1.483709842157776\n"
     ]
    }
   ],
   "source": [
    "#14\n",
    "d_max = np.max(d)\n",
    "d_min = np.min(d)\n",
    "d_mean = np.mean(d)\n",
    "print(d_max)\n",
    "print(d_min)\n",
    "print(d_mean)"
   ]
  },
  {
   "cell_type": "code",
   "execution_count": 46,
   "metadata": {},
   "outputs": [
    {
     "name": "stdout",
     "output_type": "stream",
     "text": [
      "[[[0.75958506 0.64709275 0.75040953 0.25658842 0.32945783]\n",
      "  [0.35410689 0.98124271 0.42169633 0.27596823 0.1254669 ]\n",
      "  [0.40107662 0.40135483 0.47835205 0.86051948 0.52247597]]\n",
      "\n",
      " [[0.27811627 0.59721497 0.06990186 0.05064535 0.59252815]\n",
      "  [0.43940812 0.9795526  0.1794428  0.74963283 0.50864852]\n",
      "  [0.66888794 0.03156302 0.85491404 0.87325099 0.07219422]]]\n"
     ]
    }
   ],
   "source": [
    "f = np.empty((2,3,5))\n",
    "print(f)"
   ]
  },
  {
   "cell_type": "code",
   "execution_count": 68,
   "metadata": {},
   "outputs": [],
   "source": [
    "#16\n",
    "\n",
    "f[np.where(d>d_min) and (d<d_mean)] = 25\n",
    "f[np.where(d>d_mean) and (d<d_max)] = 75\n",
    "f[np.where(d == d_mean)] = 50\n",
    "f[np.where(d_min == d)] = 0\n",
    "f[np.where(d_max == d)] = 100\n"
   ]
  },
  {
   "cell_type": "code",
   "execution_count": 69,
   "metadata": {},
   "outputs": [
    {
     "name": "stdout",
     "output_type": "stream",
     "text": [
      "[[[1.75958506 1.64709275 1.75040953 1.25658842 1.32945783]\n",
      "  [1.35410689 1.98124271 1.42169633 1.27596823 1.1254669 ]\n",
      "  [1.40107662 1.40135483 1.47835205 1.86051948 1.52247597]]\n",
      "\n",
      " [[1.27811627 1.59721497 1.06990186 1.05064535 1.59252815]\n",
      "  [1.43940812 1.9795526  1.1794428  1.74963283 1.50864852]\n",
      "  [1.66888794 1.03156302 1.85491404 1.87325099 1.07219422]]]\n",
      "[[[ 75.  75.  75.  75.  75.]\n",
      "  [ 75. 100.  75.  75.  75.]\n",
      "  [ 75.  75.  75.  75.  75.]]\n",
      "\n",
      " [[ 75.  75.  75.  75.  75.]\n",
      "  [ 75.  75.  75.  75.  75.]\n",
      "  [ 75.   0.  75.  75.  75.]]]\n"
     ]
    }
   ],
   "source": [
    "#17\n",
    "print(d)\n",
    "print(f)"
   ]
  },
  {
   "cell_type": "code",
   "execution_count": null,
   "metadata": {},
   "outputs": [],
   "source": []
  }
 ],
 "metadata": {
  "kernelspec": {
   "display_name": "Python 3",
   "language": "python",
   "name": "python3"
  },
  "language_info": {
   "codemirror_mode": {
    "name": "ipython",
    "version": 3
   },
   "file_extension": ".py",
   "mimetype": "text/x-python",
   "name": "python",
   "nbconvert_exporter": "python",
   "pygments_lexer": "ipython3",
   "version": "3.7.3"
  }
 },
 "nbformat": 4,
 "nbformat_minor": 2
}
